{
 "cells": [
  {
   "cell_type": "code",
   "execution_count": 4,
   "metadata": {},
   "outputs": [],
   "source": [
    "import numpy as np\n",
    "from scipy.special import factorial, comb\n",
    "\n",
    "def compute_a(theta1, theta21, theta22, theta3, k0):\n",
    "    a = np.zeros(k0+1)\n",
    "    a[0] = 1\n",
    "    for k in range(1, k0+1):\n",
    "        a[k] = -theta21 * a[k-1] - theta22 * theta3 * a[k-2]\n",
    "    return a\n",
    "\n",
    "def compute_s(a, theta1, theta21, theta22, theta3, k0):\n",
    "    m_vals = np.arange(k0 + 1)\n",
    "    s = np.zeros((k0+1, 2, 2))\n",
    "    for m in m_vals:\n",
    "        k_vals = np.arange(m+1)\n",
    "        l_vals = m - k_vals\n",
    "        mat11 = np.sum(theta1**2 * comb(m, k_vals) * a[k_vals] * a[l_vals] / factorial(m+1))\n",
    "        mat12 = np.sum(theta1**2 * theta3 * comb(m+1, k_vals) * a[k_vals] * a[l_vals] / factorial(m+2))\n",
    "        mat22 = np.sum(theta3**2 * theta1**2 * comb(m+2, k_vals) * a[k_vals] * a[l_vals] / factorial(m+3))\n",
    "        s[m] = np.array([[mat11, mat12], [mat12, mat22]])\n",
    "    return s\n",
    "\n",
    "def calculate_d_e(s, k0):\n",
    "    d = {k: np.zeros_like(s[0]) for k in range(k0+1)}\n",
    "    e = {k: 0 for k in range(k0+1)}\n",
    "    d[0] = np.linalg.inv(s[0])\n",
    "    e[0] = np.log(np.linalg.det(s[0]))\n",
    "    for m in range(1, k0+1):\n",
    "        for p in range(m):\n",
    "            for q in range(m):\n",
    "                if p + q > m-1:\n",
    "                    continue\n",
    "                r = m - p - q - 1\n",
    "                # 修正: 'ij,jk,kl->il' を 'ij,jkl,kl->il' に変更して、s[q+1] の次元を合わせます。\n",
    "                d[m] += factorial(m-1)/(factorial(p)*factorial(q)*factorial(r)) * np.einsum('ij,jkl,kl->il', d[p], s[q+1], d[r])\n",
    "        e[m] = np.log(np.linalg.det(s[0]))\n",
    "        for p in range(1, m+1):\n",
    "            q = m - p\n",
    "            # 修正: np.dot の代わりに np.einsum を使用して次元を合わせます。\n",
    "            e[m] += - factorial(m)/factorial(p) * np.einsum('ij,ji->', d[p], s[q])\n",
    "    return d, e\n",
    "\n",
    "\n",
    "def D(a, x, y, x_, y_, theta1, theta21, theta22, theta3, k0, h):\n",
    "    k_vals = np.arange(1, k0+1)\n",
    "    f = np.sum((a[k_vals] * x_ - theta22 * a[k_vals-1] * y_) * h**k_vals / factorial(k_vals))\n",
    "    g = np.sum(theta3 * (a[k_vals-1] * x_ - theta22 * a[k_vals-2] * y_) * h**k_vals / factorial(k_vals))\n",
    "    Dx = h**(-1/2) * (x - x_ - f)\n",
    "    Dy = h**(-3/2) * (y - y_ - g)\n",
    "    return np.array([Dx, Dy])\n",
    "\n",
    "def QL(X, Y, theta1, theta21, theta22, theta3, k0, h):\n",
    "    a = compute_a(theta1, theta21, theta22, theta3, k0)\n",
    "    s = compute_s(a, theta1, theta21, theta22, theta3, k0)\n",
    "    d, e = calculate_d_e(s, k0)\n",
    "    Q = 0\n",
    "    for i in range(1, len(X)):\n",
    "        D_ = D(a, X[i], Y[i], X[i-1], Y[i-1], theta1, theta21, theta22, theta3, k0, h)\n",
    "        Q += np.sum(-h**np.arange(k0+1) * (np.trace(d @ np.outer(D_, D_)) + e))\n",
    "    return Q\n"
   ]
  },
  {
   "cell_type": "code",
   "execution_count": 5,
   "metadata": {},
   "outputs": [
    {
     "name": "stderr",
     "output_type": "stream",
     "text": [
      "/var/folders/db/b1td2bb97db6ppr5q5fk5_xc0000gn/T/ipykernel_98685/298712388.py:27: RuntimeWarning: invalid value encountered in log\n",
      "  e[0] = np.log(np.linalg.det(s[0]))\n"
     ]
    },
    {
     "ename": "ValueError",
     "evalue": "einstein sum subscripts string contains too many subscripts for operand 1",
     "output_type": "error",
     "traceback": [
      "\u001b[0;31m---------------------------------------------------------------------------\u001b[0m",
      "\u001b[0;31mValueError\u001b[0m                                Traceback (most recent call last)",
      "Cell \u001b[0;32mIn[5], line 1\u001b[0m\n\u001b[0;32m----> 1\u001b[0m \u001b[43mQL\u001b[49m\u001b[43m(\u001b[49m\u001b[43mnp\u001b[49m\u001b[38;5;241;43m.\u001b[39;49m\u001b[43marray\u001b[49m\u001b[43m(\u001b[49m\u001b[43m[\u001b[49m\u001b[38;5;241;43m0\u001b[39;49m\u001b[43m,\u001b[49m\u001b[43m \u001b[49m\u001b[38;5;241;43m1\u001b[39;49m\u001b[43m]\u001b[49m\u001b[43m)\u001b[49m\u001b[43m,\u001b[49m\u001b[43m \u001b[49m\u001b[43mnp\u001b[49m\u001b[38;5;241;43m.\u001b[39;49m\u001b[43marray\u001b[49m\u001b[43m(\u001b[49m\u001b[43m[\u001b[49m\u001b[38;5;241;43m0\u001b[39;49m\u001b[43m,\u001b[49m\u001b[43m \u001b[49m\u001b[38;5;241;43m1\u001b[39;49m\u001b[43m]\u001b[49m\u001b[43m)\u001b[49m\u001b[43m,\u001b[49m\u001b[43m \u001b[49m\u001b[38;5;241;43m1\u001b[39;49m\u001b[43m,\u001b[49m\u001b[43m \u001b[49m\u001b[38;5;241;43m1\u001b[39;49m\u001b[43m,\u001b[49m\u001b[43m \u001b[49m\u001b[38;5;241;43m1\u001b[39;49m\u001b[43m,\u001b[49m\u001b[43m \u001b[49m\u001b[38;5;241;43m1\u001b[39;49m\u001b[43m,\u001b[49m\u001b[43m \u001b[49m\u001b[38;5;241;43m1\u001b[39;49m\u001b[43m,\u001b[49m\u001b[43m \u001b[49m\u001b[38;5;241;43m1e-3\u001b[39;49m\u001b[43m)\u001b[49m\n",
      "Cell \u001b[0;32mIn[4], line 55\u001b[0m, in \u001b[0;36mQL\u001b[0;34m(X, Y, theta1, theta21, theta22, theta3, k0, h)\u001b[0m\n\u001b[1;32m     53\u001b[0m a \u001b[38;5;241m=\u001b[39m compute_a(theta1, theta21, theta22, theta3, k0)\n\u001b[1;32m     54\u001b[0m s \u001b[38;5;241m=\u001b[39m compute_s(a, theta1, theta21, theta22, theta3, k0)\n\u001b[0;32m---> 55\u001b[0m d, e \u001b[38;5;241m=\u001b[39m \u001b[43mcalculate_d_e\u001b[49m\u001b[43m(\u001b[49m\u001b[43ms\u001b[49m\u001b[43m,\u001b[49m\u001b[43m \u001b[49m\u001b[43mk0\u001b[49m\u001b[43m)\u001b[49m\n\u001b[1;32m     56\u001b[0m Q \u001b[38;5;241m=\u001b[39m \u001b[38;5;241m0\u001b[39m\n\u001b[1;32m     57\u001b[0m \u001b[38;5;28;01mfor\u001b[39;00m i \u001b[38;5;129;01min\u001b[39;00m \u001b[38;5;28mrange\u001b[39m(\u001b[38;5;241m1\u001b[39m, \u001b[38;5;28mlen\u001b[39m(X)):\n",
      "Cell \u001b[0;32mIn[4], line 35\u001b[0m, in \u001b[0;36mcalculate_d_e\u001b[0;34m(s, k0)\u001b[0m\n\u001b[1;32m     33\u001b[0m         r \u001b[38;5;241m=\u001b[39m m \u001b[38;5;241m-\u001b[39m p \u001b[38;5;241m-\u001b[39m q \u001b[38;5;241m-\u001b[39m \u001b[38;5;241m1\u001b[39m\n\u001b[1;32m     34\u001b[0m         \u001b[38;5;66;03m# 修正: 'ij,jk,kl->il' を 'ij,jkl,kl->il' に変更して、s[q+1] の次元を合わせます。\u001b[39;00m\n\u001b[0;32m---> 35\u001b[0m         d[m] \u001b[38;5;241m+\u001b[39m\u001b[38;5;241m=\u001b[39m factorial(m\u001b[38;5;241m-\u001b[39m\u001b[38;5;241m1\u001b[39m)\u001b[38;5;241m/\u001b[39m(factorial(p)\u001b[38;5;241m*\u001b[39mfactorial(q)\u001b[38;5;241m*\u001b[39mfactorial(r)) \u001b[38;5;241m*\u001b[39m \u001b[43mnp\u001b[49m\u001b[38;5;241;43m.\u001b[39;49m\u001b[43meinsum\u001b[49m\u001b[43m(\u001b[49m\u001b[38;5;124;43m'\u001b[39;49m\u001b[38;5;124;43mij,jkl,kl->il\u001b[39;49m\u001b[38;5;124;43m'\u001b[39;49m\u001b[43m,\u001b[49m\u001b[43m \u001b[49m\u001b[43md\u001b[49m\u001b[43m[\u001b[49m\u001b[43mp\u001b[49m\u001b[43m]\u001b[49m\u001b[43m,\u001b[49m\u001b[43m \u001b[49m\u001b[43ms\u001b[49m\u001b[43m[\u001b[49m\u001b[43mq\u001b[49m\u001b[38;5;241;43m+\u001b[39;49m\u001b[38;5;241;43m1\u001b[39;49m\u001b[43m]\u001b[49m\u001b[43m,\u001b[49m\u001b[43m \u001b[49m\u001b[43md\u001b[49m\u001b[43m[\u001b[49m\u001b[43mr\u001b[49m\u001b[43m]\u001b[49m\u001b[43m)\u001b[49m\n\u001b[1;32m     36\u001b[0m e[m] \u001b[38;5;241m=\u001b[39m np\u001b[38;5;241m.\u001b[39mlog(np\u001b[38;5;241m.\u001b[39mlinalg\u001b[38;5;241m.\u001b[39mdet(s[\u001b[38;5;241m0\u001b[39m]))\n\u001b[1;32m     37\u001b[0m \u001b[38;5;28;01mfor\u001b[39;00m p \u001b[38;5;129;01min\u001b[39;00m \u001b[38;5;28mrange\u001b[39m(\u001b[38;5;241m1\u001b[39m, m\u001b[38;5;241m+\u001b[39m\u001b[38;5;241m1\u001b[39m):\n",
      "File \u001b[0;32m<__array_function__ internals>:180\u001b[0m, in \u001b[0;36meinsum\u001b[0;34m(*args, **kwargs)\u001b[0m\n",
      "File \u001b[0;32m/opt/homebrew/lib/python3.10/site-packages/numpy/core/einsumfunc.py:1371\u001b[0m, in \u001b[0;36meinsum\u001b[0;34m(out, optimize, *operands, **kwargs)\u001b[0m\n\u001b[1;32m   1369\u001b[0m     \u001b[38;5;28;01mif\u001b[39;00m specified_out:\n\u001b[1;32m   1370\u001b[0m         kwargs[\u001b[38;5;124m'\u001b[39m\u001b[38;5;124mout\u001b[39m\u001b[38;5;124m'\u001b[39m] \u001b[38;5;241m=\u001b[39m out\n\u001b[0;32m-> 1371\u001b[0m     \u001b[38;5;28;01mreturn\u001b[39;00m \u001b[43mc_einsum\u001b[49m\u001b[43m(\u001b[49m\u001b[38;5;241;43m*\u001b[39;49m\u001b[43moperands\u001b[49m\u001b[43m,\u001b[49m\u001b[43m \u001b[49m\u001b[38;5;241;43m*\u001b[39;49m\u001b[38;5;241;43m*\u001b[39;49m\u001b[43mkwargs\u001b[49m\u001b[43m)\u001b[49m\n\u001b[1;32m   1373\u001b[0m \u001b[38;5;66;03m# Check the kwargs to avoid a more cryptic error later, without having to\u001b[39;00m\n\u001b[1;32m   1374\u001b[0m \u001b[38;5;66;03m# repeat default values here\u001b[39;00m\n\u001b[1;32m   1375\u001b[0m valid_einsum_kwargs \u001b[38;5;241m=\u001b[39m [\u001b[38;5;124m'\u001b[39m\u001b[38;5;124mdtype\u001b[39m\u001b[38;5;124m'\u001b[39m, \u001b[38;5;124m'\u001b[39m\u001b[38;5;124morder\u001b[39m\u001b[38;5;124m'\u001b[39m, \u001b[38;5;124m'\u001b[39m\u001b[38;5;124mcasting\u001b[39m\u001b[38;5;124m'\u001b[39m]\n",
      "\u001b[0;31mValueError\u001b[0m: einstein sum subscripts string contains too many subscripts for operand 1"
     ]
    }
   ],
   "source": [
    "QL(np.array([0, 1]), np.array([0, 1]), 1, 1, 1, 1, 1, 1e-3)"
   ]
  },
  {
   "cell_type": "code",
   "execution_count": null,
   "metadata": {},
   "outputs": [],
   "source": []
  }
 ],
 "metadata": {
  "kernelspec": {
   "display_name": "Python 3",
   "language": "python",
   "name": "python3"
  },
  "language_info": {
   "codemirror_mode": {
    "name": "ipython",
    "version": 3
   },
   "file_extension": ".py",
   "mimetype": "text/x-python",
   "name": "python",
   "nbconvert_exporter": "python",
   "pygments_lexer": "ipython3",
   "version": "3.10.14"
  }
 },
 "nbformat": 4,
 "nbformat_minor": 2
}
