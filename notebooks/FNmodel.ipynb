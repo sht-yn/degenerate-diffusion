{
 "cells": [
  {
   "cell_type": "code",
   "execution_count": 6,
   "id": "51120026",
   "metadata": {},
   "outputs": [],
   "source": [
    "from degenerate_diffusion.estimation import loop_estimation_algorithm as loop_algo\n",
    "from degenerate_diffusion.internal.fn_model_pipeline import (\n",
    "    create_fnmodel_setup,\n",
    "    run_fnmodel_estimation,\n",
    ")\n"
   ]
  },
  {
   "cell_type": "code",
   "execution_count": 7,
   "id": "d8adb350",
   "metadata": {},
   "outputs": [
    {
     "data": {
      "text/plain": [
       "FnModelSetup(process=DegenerateDiffusionProcess(x=[x], y=[y], theta_1=[theta_10], theta_2=[theta_20, theta_21], theta_3=[theta_30, theta_31], A=SymbolicArtifact(expr=[theta_20*y + theta_21 - x], func=<function _lambdifygenerated at 0x16a9d7560>), B=SymbolicArtifact(expr=[[theta_10]], func=<function _lambdifygenerated at 0x16a9d7ba0>), H=SymbolicArtifact(expr=[(theta_31 - x - y**3 + y)/theta_30], func=<function _lambdifygenerated at 0x16a9d7ce0>)), evaluator=<degenerate_diffusion.evaluation.likelihood_evaluator.LikelihoodEvaluator object at 0x314b5ecd0>, true_theta=(Array([0.3], dtype=float32), Array([1.5, 0.8], dtype=float32), Array([0.1, 0. ], dtype=float32)), bounds_theta1=((0.1, 0.5),), bounds_theta2=((0.5, 2.5), (0.5, 1.5)), bounds_theta3=((0.01, 0.3), (-1.0, 1.0)), simulation_config=SimulationConfig(true_theta=(Array([0.3], dtype=float32), Array([1.5, 0.8], dtype=float32), Array([0.1, 0. ], dtype=float32)), t_max=10.0, h=0.05, burn_out=50.0, dt=0.001, x0=None, y0=None), loop_plan={1: ('B', 'B', 'B'), 2: ('M', 'M', 'M'), 3: ('M', 'M', 'M'), 4: ('M', 'M', 'M')}, initial_theta_stage0=(Array([0.2], dtype=float32), Array([0.5, 0.5], dtype=float32), Array([0.2, 0.1], dtype=float32)), model_label='FNmodel_test')"
      ]
     },
     "execution_count": 7,
     "metadata": {},
     "output_type": "execute_result"
    }
   ],
   "source": [
    "setup = create_fnmodel_setup()\n",
    "setup\n"
   ]
  },
  {
   "cell_type": "code",
   "execution_count": 8,
   "id": "677f0de7",
   "metadata": {},
   "outputs": [
    {
     "data": {
      "application/vnd.jupyter.widget-view+json": {
       "model_id": "526d0efa8dfc423ebfda936ccea60352",
       "version_major": 2,
       "version_minor": 0
      },
      "text/plain": [
       "Seeds:   0%|          | 0/1 [00:00<?, ?seed/s]"
      ]
     },
     "metadata": {},
     "output_type": "display_data"
    },
    {
     "data": {
      "text/plain": [
       "{'stage0': {1: EstimateStatistics(mean=(Array([0.359317], dtype=float32), Array([1.4763575, 0.7707001], dtype=float32), Array([0.10513311, 0.00141637], dtype=float32)), std=(Array([nan], dtype=float32), Array([nan, nan], dtype=float32), Array([nan, nan], dtype=float32))),\n",
       "  2: EstimateStatistics(mean=(Array([0.30596554], dtype=float32), Array([1.4747802, 0.7492834], dtype=float32), Array([0.10242927, 0.00024716], dtype=float32)), std=(Array([nan], dtype=float32), Array([nan, nan], dtype=float32), Array([nan, nan], dtype=float32))),\n",
       "  3: EstimateStatistics(mean=(Array([0.30367196], dtype=float32), Array([1.4819932 , 0.75339484], dtype=float32), Array([0.10139918, 0.00040953], dtype=float32)), std=(Array([nan], dtype=float32), Array([nan, nan], dtype=float32), Array([nan, nan], dtype=float32)))},\n",
       " 'final': {1: EstimateStatistics(mean=(Array([0.38201055], dtype=float32), Array([1.4763575, 0.7707001], dtype=float32), Array([0.10470638, 0.00150667], dtype=float32)), std=(Array([nan], dtype=float32), Array([nan, nan], dtype=float32), Array([nan, nan], dtype=float32))),\n",
       "  2: EstimateStatistics(mean=(Array([0.30851582], dtype=float32), Array([1.4747802, 0.7492834], dtype=float32), Array([0.10242927, 0.00024716], dtype=float32)), std=(Array([nan], dtype=float32), Array([nan, nan], dtype=float32), Array([nan, nan], dtype=float32))),\n",
       "  3: EstimateStatistics(mean=(Array([0.2991502], dtype=float32), Array([1.4819932 , 0.75339484], dtype=float32), Array([0.10139918, 0.00040953], dtype=float32)), std=(Array([nan], dtype=float32), Array([nan, nan], dtype=float32), Array([nan, nan], dtype=float32)))}}"
      ]
     },
     "execution_count": 8,
     "metadata": {},
     "output_type": "execute_result"
    }
   ],
   "source": [
    "results = run_fnmodel_estimation(\n",
    "    show_progress=True,\n",
    "    progress_desc=\"Seeds\",\n",
    ")\n",
    "summary_stats = results.summary\n",
    "summary_stats\n"
   ]
  },
  {
   "cell_type": "code",
   "execution_count": 11,
   "id": "84bc2397",
   "metadata": {},
   "outputs": [
    {
     "name": "stdout",
     "output_type": "stream",
     "text": [
      "Summary CSV saved to: experiments/FNmodel_test_nh10_h0.05/summary.csv\n",
      "Detail CSV saved to: experiments/FNmodel_test_nh10_h0.05/detail.csv\n",
      "Model structure saved to: experiments/FNmodel_test_nh10_h0.05/model_structure.md\n",
      "\n",
      "\\begin{table}[H]\n",
      "\\centering\n",
      "\\caption{FN model final-phase summary}\n",
      "\\footnotesize\n",
      "\\setlength{\\tabcolsep}{4pt}\n",
      "\\begin{tabular}{|c|c|c|c|c|c|}\n",
      "\\hline\n",
      " & \\hat{\\theta}_{1} & \\hat{\\theta}_{21} & \\hat{\\theta}_{22} & \\hat{\\theta}_{31} & \\hat{\\theta}_{32} \\\\ \\hline\n",
      "True value & 0.300000 & 1.500000 & 0.800000 & 0.100000 & 0.000000 \\\\ \\hline\n",
      "$k_0 = 1$ & 0.382011 (nan) & 1.476357 (nan) & 0.770700 (nan) & 0.104706 (nan) & 0.001507 (nan) \\\\ \\hline\n",
      "$k_0 = 2$ & 0.308516 (nan) & 1.474780 (nan) & 0.749283 (nan) & 0.102429 (nan) & 0.000247 (nan) \\\\ \\hline\n",
      "$k_0 = 3$ & 0.299150 (nan) & 1.481993 (nan) & 0.753395 (nan) & 0.101399 (nan) & 0.000410 (nan) \\\\ \\hline\n",
      "\\end{tabular}\n",
      "\\end{table}\n",
      "\n",
      "\\begin{table}[H]\n",
      "\\centering\n",
      "\\caption{Stage-0 vs Final comparison for FN model}\n",
      "\\footnotesize\n",
      "\\setlength{\\tabcolsep}{4pt}\n",
      "\\begin{tabular}{|c|c|c|c|c|c|c|c|c|c|c|}\n",
      "\\hline\n",
      " & Stage-0 $\\hat{\\theta}_{1}$ & Final $\\hat{\\theta}_{1}$ & Stage-0 $\\hat{\\theta}_{21}$ & Final $\\hat{\\theta}_{21}$ & Stage-0 $\\hat{\\theta}_{22}$ & Final $\\hat{\\theta}_{22}$ & Stage-0 $\\hat{\\theta}_{31}$ & Final $\\hat{\\theta}_{31}$ & Stage-0 $\\hat{\\theta}_{32}$ & Final $\\hat{\\theta}_{32}$ \\\\ \\hline\n",
      "True value & 0.300000 & 0.300000 & 1.500000 & 1.500000 & 0.800000 & 0.800000 & 0.100000 & 0.100000 & 0.000000 & 0.000000 \\\\ \\hline\n",
      "$k_0 = 1$ & 0.359317 (nan) & 0.382011 (nan) & 1.476357 (nan) & 1.476357 (nan) & 0.770700 (nan) & 0.770700 (nan) & 0.105133 (nan) & 0.104706 (nan) & 0.001416 (nan) & 0.001507 (nan) \\\\ \\hline\n",
      "$k_0 = 2$ & 0.305966 (nan) & 0.308516 (nan) & 1.474780 (nan) & 1.474780 (nan) & 0.749283 (nan) & 0.749283 (nan) & 0.102429 (nan) & 0.102429 (nan) & 0.000247 (nan) & 0.000247 (nan) \\\\ \\hline\n",
      "$k_0 = 3$ & 0.303672 (nan) & 0.299150 (nan) & 1.481993 (nan) & 1.481993 (nan) & 0.753395 (nan) & 0.753395 (nan) & 0.101399 (nan) & 0.101399 (nan) & 0.000410 (nan) & 0.000410 (nan) \\\\ \\hline\n",
      "\\end{tabular}\n",
      "\\end{table}\n"
     ]
    }
   ],
   "source": [
    "artifact_paths = results.save_artifacts()\n",
    "\n",
    "caption_summary = \"FN model final-phase summary\"\n",
    "latex_table_summary = loop_algo.format_summary_as_latex(\n",
    "    summary_stats,\n",
    "    phase=\"final\",\n",
    "    true_theta=setup.true_theta,\n",
    "    caption=caption_summary,\n",
    ")\n",
    "\n",
    "caption_comparison = \"Stage-0 vs Final comparison for FN model\"\n",
    "latex_table_comparison = loop_algo.format_stage_comparison_latex(\n",
    "    artifact_paths.summary_csv,\n",
    "    phases=(\"stage0\", \"final\"),\n",
    "    caption=caption_comparison,\n",
    ")\n",
    "\n",
    "print(f\"Summary CSV saved to: {artifact_paths.summary_csv}\")\n",
    "print(f\"Detail CSV saved to: {artifact_paths.detail_csv}\")\n",
    "print(f\"Model structure saved to: {artifact_paths.model_structure}\")\n",
    "print()\n",
    "print(latex_table_summary)\n",
    "print()\n",
    "print(latex_table_comparison)\n"
   ]
  },
  {
   "cell_type": "code",
   "execution_count": null,
   "id": "946f4651",
   "metadata": {},
   "outputs": [],
   "source": []
  }
 ],
 "metadata": {
  "kernelspec": {
   "display_name": "degenerate-diffusion (3.11.11)",
   "language": "python",
   "name": "python3"
  },
  "language_info": {
   "codemirror_mode": {
    "name": "ipython",
    "version": 3
   },
   "file_extension": ".py",
   "mimetype": "text/x-python",
   "name": "python",
   "nbconvert_exporter": "python",
   "pygments_lexer": "ipython3",
   "version": "3.11.11"
  }
 },
 "nbformat": 4,
 "nbformat_minor": 5
}
