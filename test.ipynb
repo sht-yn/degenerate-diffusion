{
 "cells": [
  {
   "cell_type": "code",
   "execution_count": 1,
   "metadata": {},
   "outputs": [],
   "source": [
    "from scipy.misc import derivative\n",
    "import numpy as np\n"
   ]
  },
  {
   "cell_type": "code",
   "execution_count": 2,
   "metadata": {},
   "outputs": [],
   "source": [
    "def hessian(f, x, epsilon=1e-5):\n",
    "    n = len(x)\n",
    "    hessian_matrix = np.zeros((n, n))\n",
    "    for i in range(n):\n",
    "        for j in range(n):\n",
    "            def f_ij(x):\n",
    "                x = np.array(x)\n",
    "                return f(x)\n",
    "            if i == j:\n",
    "                hessian_matrix[i, j] = derivative(lambda xi: derivative(lambda xj: f_ij(x), x[j], dx=epsilon, n=1), x[i], dx=epsilon, n=1)\n",
    "            else:\n",
    "                x1 = np.array(x, dtype=float)\n",
    "                x2 = np.array(x, dtype=float)\n",
    "                x1[i] += epsilon\n",
    "                x1[j] += epsilon\n",
    "                x2[i] -= epsilon\n",
    "                x2[j] -= epsilon\n",
    "                hessian_matrix[i, j] = (f_ij(x1) - 2*f_ij(x) + f_ij(x2)) / (epsilon ** 2)\n",
    "    return hessian_matrix\n",
    "import numpy as np\n",
    "from scipy.optimize import approx_fprime\n"
   ]
  },
  {
   "cell_type": "code",
   "execution_count": 3,
   "metadata": {},
   "outputs": [],
   "source": [
    "def one_step(f,x):\n",
    "    grad = approx_fprime(x, f, 1e-6)\n",
    "    hess = hessian(f, x)\n",
    "    return x - np.linalg.inv(hess).dot(grad)"
   ]
  },
  {
   "cell_type": "code",
   "execution_count": 4,
   "metadata": {},
   "outputs": [
    {
     "data": {
      "text/plain": [
       "array([0.50000035, 0.50000035])"
      ]
     },
     "execution_count": 4,
     "metadata": {},
     "output_type": "execute_result"
    }
   ],
   "source": []
  },
  {
   "cell_type": "code",
   "execution_count": null,
   "metadata": {},
   "outputs": [],
   "source": []
  }
 ],
 "metadata": {
  "kernelspec": {
   "display_name": "Python 3",
   "language": "python",
   "name": "python3"
  },
  "language_info": {
   "codemirror_mode": {
    "name": "ipython",
    "version": 3
   },
   "file_extension": ".py",
   "mimetype": "text/x-python",
   "name": "python",
   "nbconvert_exporter": "python",
   "pygments_lexer": "ipython3",
   "version": "3.10.14"
  }
 },
 "nbformat": 4,
 "nbformat_minor": 2
}
